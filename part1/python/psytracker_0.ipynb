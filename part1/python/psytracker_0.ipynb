{
 "cells": [
  {
   "cell_type": "markdown",
   "metadata": {},
   "source": [
    "# ch.3 IPython 소개"
   ]
  },
  {
   "cell_type": "markdown",
   "metadata": {},
   "source": [
    "## 3.1 IPython 기본\n",
    "  - 명령어를 입력하여 실행시킬 수 있음"
   ]
  },
  {
   "cell_type": "code",
   "execution_count": 1,
   "metadata": {
    "collapsed": false
   },
   "outputs": [
    {
     "data": {
      "text/plain": [
       "5"
      ]
     },
     "execution_count": 1,
     "metadata": {},
     "output_type": "execute_result"
    }
   ],
   "source": [
    "a = 5\n",
    "a"
   ]
  },
  {
   "cell_type": "code",
   "execution_count": 2,
   "metadata": {
    "collapsed": true
   },
   "outputs": [],
   "source": [
    "from numpy.random import randn"
   ]
  },
  {
   "cell_type": "code",
   "execution_count": 4,
   "metadata": {
    "collapsed": false
   },
   "outputs": [
    {
     "data": {
      "text/plain": [
       "{0: 0.530991543128973,\n",
       " 1: 0.6018729297849643,\n",
       " 2: 0.3647993295723022,\n",
       " 3: -0.8787495322231684,\n",
       " 4: 2.5989791500393413,\n",
       " 5: -0.5930493589857931,\n",
       " 6: 1.540699459314777}"
      ]
     },
     "execution_count": 4,
     "metadata": {},
     "output_type": "execute_result"
    }
   ],
   "source": [
    "data = {i : randn() for i in range(7)}\n",
    "data"
   ]
  },
  {
   "cell_type": "code",
   "execution_count": 5,
   "metadata": {
    "collapsed": false
   },
   "outputs": [
    {
     "name": "stdout",
     "output_type": "stream",
     "text": [
      "{0: 0.530991543128973, 1: 0.6018729297849643, 2: 0.3647993295723022, 3: -0.8787495322231684, 4: 2.5989791500393413, 5: -0.5930493589857931, 6: 1.540699459314777}\n"
     ]
    }
   ],
   "source": [
    "print data"
   ]
  },
  {
   "cell_type": "markdown",
   "metadata": {},
   "source": [
    "### 3.1.1탭자동 완성\n",
    "  - 탭을 누르면 네입스페이스에서 그 시점까지 입력한 내용과 맞는 변수를 자동으로 찾아줌"
   ]
  },
  {
   "cell_type": "code",
   "execution_count": 6,
   "metadata": {
    "collapsed": true
   },
   "outputs": [],
   "source": [
    "an_apple = 27\n",
    "an_example = 42"
   ]
  },
  {
   "cell_type": "code",
   "execution_count": 7,
   "metadata": {
    "collapsed": false
   },
   "outputs": [
    {
     "data": {
      "text/plain": [
       "27"
      ]
     },
     "execution_count": 7,
     "metadata": {},
     "output_type": "execute_result"
    }
   ],
   "source": [
    "an_apple #an<tab>"
   ]
  },
  {
   "cell_type": "markdown",
   "metadata": {},
   "source": [
    "  - 자동완성기능을 활용할 수 있음"
   ]
  },
  {
   "cell_type": "code",
   "execution_count": 8,
   "metadata": {
    "collapsed": true
   },
   "outputs": [],
   "source": [
    "b = [1,2,3]"
   ]
  },
  {
   "cell_type": "code",
   "execution_count": 9,
   "metadata": {
    "collapsed": false
   },
   "outputs": [
    {
     "data": {
      "text/plain": [
       "<function append>"
      ]
     },
     "execution_count": 9,
     "metadata": {},
     "output_type": "execute_result"
    }
   ],
   "source": [
    "b.append  #b.<tab>"
   ]
  },
  {
   "cell_type": "markdown",
   "metadata": {},
   "source": [
    "  - 모듈도 동일하게 작동함\n",
    "  - 파일경로를 입력하고 탭을 누르면 입력한 문자열에 맞는 파일 경로를 컴퓨터 파일시스템 내에서 찾아줌"
   ]
  },
  {
   "cell_type": "code",
   "execution_count": 11,
   "metadata": {
    "collapsed": true
   },
   "outputs": [],
   "source": [
    "import datetime"
   ]
  },
  {
   "cell_type": "code",
   "execution_count": 12,
   "metadata": {
    "collapsed": false
   },
   "outputs": [
    {
     "data": {
      "text/plain": [
       "9999"
      ]
     },
     "execution_count": 12,
     "metadata": {},
     "output_type": "execute_result"
    }
   ],
   "source": [
    "datetime.MAXYEAR  #datetime.<tab>"
   ]
  },
  {
   "cell_type": "markdown",
   "metadata": {},
   "source": [
    "### 3.1.2 자기관찰\n",
    "  - 변수 앞이나 뒤에 ?기호를 붙이면 그 개체에 대한 일반정보를 출력한다.\n",
    "  - 함수에 ??기호를 분이면 함수의 소스코드를 보여준다 add_number??"
   ]
  },
  {
   "cell_type": "markdown",
   "metadata": {},
   "source": [
    "b = [1,2,3]\n",
    "?b"
   ]
  },
  {
   "cell_type": "markdown",
   "metadata": {},
   "source": [
    "## 3.1.3 %run명령어\n",
    "  - %run 명령어를 사용하면 IPython 세션안에서 파이썬 프로그램 파일을 불러와 실행할 수 있다\n",
    "  - 실행중인 코드를 중지시키려면 중간에 Ctl+c를 누르면 된다"
   ]
  },
  {
   "cell_type": "code",
   "execution_count": 21,
   "metadata": {
    "collapsed": false
   },
   "outputs": [
    {
     "name": "stdout",
     "output_type": "stream",
     "text": [
      "hello world\n",
      "5\n"
     ]
    }
   ],
   "source": [
    "  %run c:/py_test/test1.py"
   ]
  },
  {
   "cell_type": "markdown",
   "metadata": {},
   "source": [
    "### 3.1.4 클립보드에 있는 코드 실행하기\n",
    "  - ctl + shift + v 를 누른다\n",
    "  - 이방법은 클립보드의 각 줄을 한줄씩 입력하는 방식으로 줄바꿈을 <return>처리한다"
   ]
  },
  {
   "cell_type": "code",
   "execution_count": 34,
   "metadata": {
    "collapsed": true
   },
   "outputs": [],
   "source": [
    "x = 5"
   ]
  },
  {
   "cell_type": "code",
   "execution_count": 35,
   "metadata": {
    "collapsed": true
   },
   "outputs": [],
   "source": [
    "y = 7"
   ]
  },
  {
   "cell_type": "code",
   "execution_count": 36,
   "metadata": {
    "collapsed": true
   },
   "outputs": [],
   "source": [
    "if x > 5 :\n",
    "    x += 1\n",
    "    "
   ]
  },
  {
   "cell_type": "code",
   "execution_count": 37,
   "metadata": {
    "collapsed": true
   },
   "outputs": [],
   "source": [
    "    y = 8"
   ]
  },
  {
   "cell_type": "markdown",
   "metadata": {},
   "source": [
    "  - 들여쓰기 된 블록안의 빈줄을 블록이 끝난것으로 인식하기 때문에 IndertationError이 발생\n",
    "  - %paste 혹은 %cpaste 매직함수를 이용해야한다. \n",
    "  - %paste함수는 클립보드에 있는 텍스트를 단일블록으로 실행한다.\n",
    "  - %cpaste함수는 코드를 붙여넣을때 특수한 프롬프트를 제공한다."
   ]
  },
  {
   "cell_type": "code",
   "execution_count": 41,
   "metadata": {
    "collapsed": false
   },
   "outputs": [
    {
     "name": "stderr",
     "output_type": "stream",
     "text": [
      "ERROR: Line magic function `%paste` not found.\n"
     ]
    }
   ],
   "source": [
    "%paste\n",
    "x = 5\n",
    "y = 7\n",
    "if x > 5 :\n",
    "    x += 1\n",
    "    \n",
    "    y = 8"
   ]
  },
  {
   "cell_type": "markdown",
   "metadata": {},
   "source": [
    "### 3.1.5 키보드 단축키"
   ]
  },
  {
   "cell_type": "markdown",
   "metadata": {},
   "source": [
    "  - ctr + P  위 화살표 : 명령어 히스토리 역순 검색\n",
    "  - ctr + N 아래 화살표 : 명령어 히스토리 최근순 검색\n",
    "  - ctr + R  : readline 명령어 형식의 히스토리검색\n",
    "  - Ctr+shift+V : 클립보드에 텍스트 붙여넣기\n",
    "  - ctr + C : 실행중인 코드 중단\n",
    "  - ctr + A : 커서를 줄의 처음으로 이동\n",
    "  - ctr + E : 커서를 줄의 끝으로 이동\n",
    "  - ctr + K : 커서가 놓인 곳부터 줄의 끝까지 텍스트 삭제\n",
    "  - ctr + U : 현재 입력된 모든 텍스트 지우기\n",
    "  - ctr + F : 커서를 앞으로 한글자씩 이동하기\n",
    "  - ctr + B : 커서를 뒤로 한글자씩 이동하기\n",
    "  - ctr + L : 화면 지우기"
   ]
  },
  {
   "cell_type": "markdown",
   "metadata": {},
   "source": [
    "### 3.1.6 예외와 트레이스백\n",
    "  - %run 명령어를 사용하면 코드실행중 오류가 발생했을때 전체 스택정보를 각 위치별 문맥정보와 함께 볼수 있음"
   ]
  },
  {
   "cell_type": "markdown",
   "metadata": {},
   "source": [
    "### 3.1.7 매직명령어\n",
    "  - 일반적인 작업이나 Ipython시스템 동작을 제어하는 특수명령어\n",
    "  - 매직명령어 앞에 %를 붙임\n",
    "  - 행렬곱셈 코드가 실행되는 시간을 측정할때 %timeit 매직함수 사용"
   ]
  },
  {
   "cell_type": "code",
   "execution_count": 46,
   "metadata": {
    "collapsed": false
   },
   "outputs": [],
   "source": [
    "from numpy.random import randn"
   ]
  },
  {
   "cell_type": "markdown",
   "metadata": {
    "collapsed": false
   },
   "source": [
    "a = np.random.randn(100,100)\n",
    "%time np.dot(a, a)"
   ]
  },
  {
   "cell_type": "markdown",
   "metadata": {
    "collapsed": true
   },
   "source": [
    "  - 매직명령어는 추가적인 옵션을 필요로하며 ?를 이용해 옵션을 볼수 있다.\n",
    "  - %quickref나 %magic 명령을 통해서 사용 가능한 모든 특수명령어를 확인해두는것이 좋다.\n",
    "  - 매직명령어는 87p 참조"
   ]
  },
  {
   "cell_type": "markdown",
   "metadata": {},
   "source": [
    "### 3.1.8 Qt기반의 GUI콘솔 (나중에 살표보겠다)\n",
    "  - 리치텍스트 위젯기능을추가한 GUI콘솔개발, pyQT나 Pyslide가 설치필요함"
   ]
  },
  {
   "cell_type": "markdown",
   "metadata": {},
   "source": [
    "### 3.1.9 Pylab 모드와 Matplolib 통합\n",
    "  - Matplolib 및 다양한 라이브러리 사용이 쉽다. IPython은 GUI프레임워크를 이용해 내부에서 멈주칮 않고 작업을 계속할수 있도록 구현되어있다."
   ]
  },
  {
   "cell_type": "markdown",
   "metadata": {},
   "source": [
    "## 3.2 명령어 히스토리 사용하기\n",
    "  - 검색, 자동완성, 최소한의 입력으로 이전 명령어 재실행\n",
    "  - 세션간의 명령어 히스토리 유지\n",
    "  - 입,출력 히스토리를 파일에 기록"
   ]
  },
  {
   "cell_type": "markdown",
   "metadata": {},
   "source": [
    "### 3.2.1 명령어 검색과 재사용\n",
    "  - ctrl + p / ctrl + N 또는 위 아래 화살표키를 사용 최근 입력한 명령어 검색\n",
    "  - ctrl + r 을 누르면 유닉스 셸의 readline명령어 처럼 부분 순차검색 "
   ]
  },
  {
   "cell_type": "markdown",
   "metadata": {},
   "source": [
    "### 3.2.2 입출력 변수\n",
    "  - IPython은 입력한 내용과 출력된 결과물을 특수한변수에 저장한다.\n",
    "  - 마지막 2개의 결과를 저장하는 바로 이전 결과는 _변수, 그 이전 결과는 __변수에 저장한다\n",
    "  - 입력변수는 iX(X는 입력줄번호) 변수에 저장 / 출려변수는 _X변수에 저장된다"
   ]
  },
  {
   "cell_type": "code",
   "execution_count": 1,
   "metadata": {
    "collapsed": false
   },
   "outputs": [
    {
     "data": {
      "text/plain": [
       "134217728"
      ]
     },
     "execution_count": 1,
     "metadata": {},
     "output_type": "execute_result"
    }
   ],
   "source": [
    "2**27"
   ]
  },
  {
   "cell_type": "code",
   "execution_count": 2,
   "metadata": {
    "collapsed": false
   },
   "outputs": [
    {
     "data": {
      "text/plain": [
       "134217728"
      ]
     },
     "execution_count": 2,
     "metadata": {},
     "output_type": "execute_result"
    }
   ],
   "source": [
    "_"
   ]
  },
  {
   "cell_type": "code",
   "execution_count": 3,
   "metadata": {
    "collapsed": true
   },
   "outputs": [],
   "source": [
    "foo = 'bar'"
   ]
  },
  {
   "cell_type": "code",
   "execution_count": 4,
   "metadata": {
    "collapsed": false
   },
   "outputs": [
    {
     "data": {
      "text/plain": [
       "'bar'"
      ]
     },
     "execution_count": 4,
     "metadata": {},
     "output_type": "execute_result"
    }
   ],
   "source": [
    "foo"
   ]
  },
  {
   "cell_type": "code",
   "execution_count": 5,
   "metadata": {
    "collapsed": false
   },
   "outputs": [
    {
     "data": {
      "text/plain": [
       "u'foo'"
      ]
     },
     "execution_count": 5,
     "metadata": {},
     "output_type": "execute_result"
    }
   ],
   "source": [
    "_i4"
   ]
  },
  {
   "cell_type": "code",
   "execution_count": 7,
   "metadata": {
    "collapsed": false
   },
   "outputs": [
    {
     "data": {
      "text/plain": [
       "'bar'"
      ]
     },
     "execution_count": 7,
     "metadata": {},
     "output_type": "execute_result"
    }
   ],
   "source": [
    "_4"
   ]
  },
  {
   "cell_type": "markdown",
   "metadata": {},
   "source": [
    "### 3.2.3 입출력 기록하기\n",
    "  - 입출력을 포함한 전체 콘설 세션의 로그를 %logstart를 사용해서 기록할수 있다. \n",
    "  - 관련함수로 %logoff, %logon, %logstate, %logstop 있다"
   ]
  },
  {
   "cell_type": "code",
   "execution_count": 9,
   "metadata": {
    "collapsed": false
   },
   "outputs": [
    {
     "name": "stdout",
     "output_type": "stream",
     "text": [
      "Activating auto-logging. Current session state plus future input saved.\n",
      "Filename       : ipython_log.py\n",
      "Mode           : rotate\n",
      "Output logging : False\n",
      "Raw input log  : False\n",
      "Timestamping   : False\n",
      "State          : active\n"
     ]
    }
   ],
   "source": [
    "%logstart"
   ]
  },
  {
   "cell_type": "markdown",
   "metadata": {},
   "source": [
    "## 3.3 운영체제와 함께 사용하기\n",
    "  - 파이썬은  운영체제 셸과 강력하게 통합되어 있다.\n",
    "  - 윈도우나 유닉스 셀이 일반적인 명령행에서 할수 있는 작업이 가능"
   ]
  },
  {
   "cell_type": "markdown",
   "metadata": {
    "collapsed": true
   },
   "source": [
    "  - !cmd   :   시스템셸에서 cmd 명령어 실행\n",
    "  - output = !cmd args   :   cmd명령어를 실행하고 표준출력 결과를 output에 저장\n",
    "  - %alias alias_name cmd   :   시스템 명령어에 대한 별칭을 정의한다\n",
    "  - %bookmark   :   ipython의 디렉터리 북마크 시스템을 활용\n",
    "  - %cd directory   :   시스템의 작업 디렉토리를 directory로 변경한다\n",
    "  - %pwd   :   현재 시스템의 작업 디렉토리를 반환한다\n",
    "  - %pushd directory   :   현재 디렉토리를 스택에 추가하고 새로운 디렉토리로 이동한다\n",
    "  - %popd   :   스택에 저장된 디렉토리를 꺼내서 그 디렉토리로 이동한다\n",
    "  - %dirs   :   현재 디렉토리 스택에 저장된 디렉토리 목록을 보여준다\n",
    "  - %dhist   :   접근했던 디렉토리 히스토리를 출력한다\n",
    "  - %env   :   시스텝 환견변수를 사전타입으로 출력한다"
   ]
  },
  {
   "cell_type": "markdown",
   "metadata": {},
   "source": [
    "### 3.3.1 셸 명령어와 별칭 "
   ]
  },
  {
   "cell_type": "markdown",
   "metadata": {},
   "source": [
    "### 3.3.2 디렉토리 북마크 시스템\n",
    "  - 자주사용하는 디렉토리에 별칭을 저장해두고 쉽게 이동할수 있다"
   ]
  },
  {
   "cell_type": "code",
   "execution_count": 3,
   "metadata": {
    "collapsed": false
   },
   "outputs": [],
   "source": [
    "%bookmark db c:/py_test"
   ]
  },
  {
   "cell_type": "code",
   "execution_count": 4,
   "metadata": {
    "collapsed": false
   },
   "outputs": [
    {
     "name": "stdout",
     "output_type": "stream",
     "text": [
      "(bookmark:db) -> c:/py_test\n",
      "c:\\py_test\n"
     ]
    }
   ],
   "source": [
    "cd db"
   ]
  },
  {
   "cell_type": "markdown",
   "metadata": {},
   "source": [
    "## 3.4 소프트웨어 개발도구"
   ]
  },
  {
   "cell_type": "markdown",
   "metadata": {},
   "source": [
    "### 3.4.1 인터랙티브 디버거"
   ]
  },
  {
   "cell_type": "markdown",
   "metadata": {},
   "source": [
    "### 3.4.2 코드시간 측정 %time과 %timeit"
   ]
  },
  {
   "cell_type": "raw",
   "metadata": {},
   "source": [
    "import time\n",
    "start = time.time()\n",
    "for i in range(iterations):\n",
    "    # some code to run here\n",
    "elapsed_per = (time.time() - start) / iterations"
   ]
  },
  {
   "cell_type": "markdown",
   "metadata": {},
   "source": [
    "### 3.4.3 기본적인 프로파일링 : %prun 과 %run -p"
   ]
  },
  {
   "cell_type": "code",
   "execution_count": 12,
   "metadata": {
    "collapsed": false
   },
   "outputs": [
    {
     "name": "stdout",
     "output_type": "stream",
     "text": [
      "Lagest one we saw: 11.7354291978\n"
     ]
    }
   ],
   "source": [
    "import numpy as np\n",
    "from numpy.linalg import eigvals\n",
    "\n",
    "def run_experiment(niter=100):\n",
    "    K = 100\n",
    "    results = []\n",
    "    for _ in xrange(niter):\n",
    "        mat = np.random.randn(K, K)\n",
    "        max_eigenvalue = np.abs(eigvals(mat)).max()\n",
    "        results.append(max_eigenvalue)\n",
    "    return results\n",
    "some_results = run_experiment()\n",
    "print 'Lagest one we saw: %s' %np.max(some_results)"
   ]
  },
  {
   "cell_type": "code",
   "execution_count": 1,
   "metadata": {
    "collapsed": false
   },
   "outputs": [
    {
     "ename": "SyntaxError",
     "evalue": "invalid syntax (<ipython-input-1-9a3aab209a0a>, line 1)",
     "output_type": "error",
     "traceback": [
      "\u001b[1;36m  File \u001b[1;32m\"<ipython-input-1-9a3aab209a0a>\"\u001b[1;36m, line \u001b[1;32m1\u001b[0m\n\u001b[1;33m    python -m cProfile cprof_example.py\u001b[0m\n\u001b[1;37m                     ^\u001b[0m\n\u001b[1;31mSyntaxError\u001b[0m\u001b[1;31m:\u001b[0m invalid syntax\n"
     ]
    }
   ],
   "source": [
    "python -m cProfile cprof_example.py"
   ]
  },
  {
   "cell_type": "markdown",
   "metadata": {},
   "source": [
    "### 3.4.4 함수 각 줄마다 프로파일링 하기"
   ]
  },
  {
   "cell_type": "markdown",
   "metadata": {
    "collapsed": true
   },
   "source": [
    "## 3.5 IPython HTML 노트북\n",
    "  - 대화형 컴퓨팅 도구이며 연구와 교육을 위해 재사용이 가능한 이상적인 매체"
   ]
  },
  {
   "cell_type": "markdown",
   "metadata": {
    "collapsed": true
   },
   "source": [
    "## 3.6 IPython을 사용한 제품개발을 위한 팁"
   ]
  },
  {
   "cell_type": "markdown",
   "metadata": {
    "collapsed": true
   },
   "source": [
    "### 3.6.1 모듈 의존성 리로딩하기\n",
    " - import some_lib\n",
    " - reload(some_lib)"
   ]
  },
  {
   "cell_type": "markdown",
   "metadata": {},
   "source": [
    "### 3.6.2 코드설계 팀\n",
    "  - 관련있는 객체와 데이터는 유지\n",
    "  - 중첩을 피하자\n",
    "  - 긴파일에 대한 두려움을 버리자"
   ]
  },
  {
   "cell_type": "markdown",
   "metadata": {},
   "source": [
    "## 3.7 IPython 고급기능"
   ]
  },
  {
   "cell_type": "code",
   "execution_count": null,
   "metadata": {
    "collapsed": true
   },
   "outputs": [],
   "source": []
  }
 ],
 "metadata": {
  "kernelspec": {
   "display_name": "Python 2",
   "language": "python",
   "name": "python2"
  },
  "language_info": {
   "codemirror_mode": {
    "name": "ipython",
    "version": 2
   },
   "file_extension": ".py",
   "mimetype": "text/x-python",
   "name": "python",
   "nbconvert_exporter": "python",
   "pygments_lexer": "ipython2",
   "version": "2.7.10"
  }
 },
 "nbformat": 4,
 "nbformat_minor": 0
}

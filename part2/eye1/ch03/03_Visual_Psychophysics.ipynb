{
 "cells": [
  {
   "cell_type": "markdown",
   "metadata": {},
   "source": [
    "# 3 Visual Psychophysics"
   ]
  },
  {
   "cell_type": "markdown",
   "metadata": {},
   "source": [
    "* 싸이그래머/싸이트래커 : 파트 2 - 아이트래킹 1 [1]\n",
    "* 김무성"
   ]
  },
  {
   "cell_type": "markdown",
   "metadata": {},
   "source": [
    "# Contents\n",
    "* 3.1 Spatial Vision\n",
    "* 3.2 Temporal Vision\n",
    "    - 3.2.1 Perception of Motion in the Visual Periphery\n",
    "* 3.3 Color Vision\n",
    "* 3.4 Implications for Attentional Design of Visual Displays"
   ]
  },
  {
   "cell_type": "markdown",
   "metadata": {},
   "source": [
    "##### 참고\n",
    "* [2] Psychophysics - http://www.slideshare.net/raoelg/psychophysics"
   ]
  },
  {
   "cell_type": "markdown",
   "metadata": {},
   "source": [
    "In this book, the primary concern is visual attention, and so the book primarily considers the distinction between foveo–peripheral vision. It is therefore the topic covered in greatest detail, in comparison to the other distinctions covered here briefly: temporal and chromatic foveo–peripheral differences."
   ]
  },
  {
   "cell_type": "markdown",
   "metadata": {},
   "source": [
    "<img src=\"http://eyetracking.me/wp-content/uploads/2009/04/field_of_vision.png\" width=400 />"
   ]
  },
  {
   "cell_type": "markdown",
   "metadata": {},
   "source": [
    "<img src=\"http://image.slidesharecdn.com/cognitiveelementsofdesignshahfarsdec14-141026214726-conversion-gate02/95/cognitive-elements-of-an-effective-uiux-design-24-638.jpg?cb=1414360198\" width=600 />"
   ]
  },
  {
   "cell_type": "markdown",
   "metadata": {},
   "source": [
    "# 3.1 Spatial Vision"
   ]
  },
  {
   "cell_type": "markdown",
   "metadata": {},
   "source": [
    "Dimensions of retinal features are usually described in terms of projected scene dimensions in units of degrees visual angle, defined as"
   ]
  },
  {
   "cell_type": "markdown",
   "metadata": {},
   "source": [
    "<img src=\"figures/cap3.1.png\" />"
   ]
  },
  {
   "cell_type": "markdown",
   "metadata": {},
   "source": [
    "where S is the size of the scene object and D is the distance to the object (see Figure 3.1)."
   ]
  },
  {
   "cell_type": "markdown",
   "metadata": {},
   "source": [
    "<img src=\"figures/cap3.2.png\" width=600 />"
   ]
  },
  {
   "cell_type": "markdown",
   "metadata": {},
   "source": [
    "Common visual angles are given in Table 3.1."
   ]
  },
  {
   "cell_type": "markdown",
   "metadata": {},
   "source": [
    "<img src=\"figures/cap3.3.png\" width=600 />"
   ]
  },
  {
   "cell_type": "markdown",
   "metadata": {},
   "source": [
    "<img src=\"http://www.forbestvision.com/wp-content/uploads/2010/01/central_retina2.jpg\" width=600 />"
   ]
  },
  {
   "cell_type": "markdown",
   "metadata": {},
   "source": [
    "The foveola, measuring 400 μm subtends $1.3^{◦}$ visual angle, and the fovea and macula subtend $5^◦$ and $16.7^◦$, respectively (see Figure 3.2)."
   ]
  },
  {
   "cell_type": "markdown",
   "metadata": {},
   "source": [
    "The entire visual field roughly corresponds to a 23,400 square degree area defined by an ellipsoid with the horizontal major axis subtending $180^◦$ visual angle, and the minor vertical axis subtending $130^◦$"
   ]
  },
  {
   "cell_type": "markdown",
   "metadata": {},
   "source": [
    "<img src=\"figures/cap3.4.png\" width=600 />"
   ]
  },
  {
   "cell_type": "markdown",
   "metadata": {},
   "source": [
    "#### MTF(Modulation Transfer Function)"
   ]
  },
  {
   "cell_type": "markdown",
   "metadata": {},
   "source": [
    "##### 참고\n",
    "* [3] 렌즈의 MTF챠트 이해하기 -  http://photo.wins.or.kr/lecture/%EC%B9%B4%EB%A9%94%EB%9D%BC%EC%9D%98%EA%B5%AC%EC%A1%B0/%EB%A0%8C%EC%A6%88/MTF.htm\n",
    "* [4] MTF(Modulation Transfer Function) 차트에 대한 간략한 이해 - http://fantasy297.tistory.com/18\n",
    "* [5] MTF곡선이란 - https://www.saeki.co.kr/shop/sigma/mtf_chart_guide.htm"
   ]
  },
  {
   "cell_type": "markdown",
   "metadata": {},
   "source": [
    "The Modulation Transfer Function (MTF) theoretically describes the spatial resolvability of retinal photoreceptors by considering the cells as a finite array of sampling units.\n",
    "* The average linear intercone spacing is then 71 cones/deg suggesting a maximum resolvable frequency of 35 cycles/deg, roughly half the resolvability within the foveola. \n",
    "* This is somewhat of an underestimate because cone diameters increase twofold by the edge of the fovea suggesting a slightly milder acuity degradation. \n",
    "* These one-dimensional approximations are not fully generalizable to the two-dimensional photoreceptor array although they provide insight into the theoretic resolution limits of the eye.\n",
    "* Effective relative visual acuity measures are usually obtained through psychophysical experimentation."
   ]
  },
  {
   "cell_type": "markdown",
   "metadata": {},
   "source": [
    "Figure 3.3 shows the retinal distribution of rod and cone receptors."
   ]
  },
  {
   "cell_type": "markdown",
   "metadata": {},
   "source": [
    "<img src=\"figures/cap3.5.png\" width=600 />"
   ]
  },
  {
   "cell_type": "markdown",
   "metadata": {},
   "source": [
    "At photopic light levels (day, or cone vision), foveal acuity is fairly constant within the central $2^◦$, and drops approximately linearly from there to the $5^◦$ foveal border. Beyond the $5^◦$, acuity drops sharply (approximately exponentially). At scotopic light levels (night, or rod-vision), acuity is poor at all eccentricities."
   ]
  },
  {
   "cell_type": "markdown",
   "metadata": {},
   "source": [
    "Figure 3.4 shows the variation of visual acuity at various eccentricities and light intensity levels\n",
    "* intensity is shown varying from 9.0 to 4.6 log micromicrolamberts, denoted by log mmL (9.0 log micromicrolamberts = 109 micromicrolamberts = 1 mL, see Davson (1980, p. 311))."
   ]
  },
  {
   "cell_type": "markdown",
   "metadata": {},
   "source": [
    "##### 참고\n",
    "* [6] eccentricity(이심률) : 원뿔곡선 이야기(원,타원,포물선,쌍곡선) - http://darkpgmr.tistory.com/63"
   ]
  },
  {
   "cell_type": "markdown",
   "metadata": {},
   "source": [
    "<img src=\"http://www.ktword.co.kr/img_data/4936_3.jpg\" width=300 />"
   ]
  },
  {
   "cell_type": "markdown",
   "metadata": {},
   "source": [
    "<img src=\"http://www.astro-tom.com/images/eccentricity.gif\" width=300 />"
   ]
  },
  {
   "cell_type": "markdown",
   "metadata": {},
   "source": [
    "<img src=\"figures/cap3.6.png\" width=600 />"
   ]
  },
  {
   "cell_type": "markdown",
   "metadata": {},
   "source": [
    "# 3.2 Temporal Vision\n",
    "* 3.2.1 Perception of Motion in the Visual Periphery\n",
    "* 3.2.2 Sensitivity to Direction of Motion in the Visual Periphery"
   ]
  },
  {
   "cell_type": "markdown",
   "metadata": {},
   "source": [
    "Human visual response to motion is \n",
    "* characterized by two distinct facts: \n",
    "    - the persistence of vision and \n",
    "    - the phi phenomenon\n",
    "* The former essentially describes \n",
    "    - the temporal sampling rate of the HVS, and \n",
    "* the latter describes \n",
    "    - a threshold above which the HVS detects apparent movement.\n",
    "* Both facts are exploited in television, cinema, and graphics to elicit perception of motion from successively displayed still images."
   ]
  },
  {
   "cell_type": "code",
   "execution_count": 2,
   "metadata": {
    "collapsed": false
   },
   "outputs": [
    {
     "data": {
      "text/html": [
       "\n",
       "        <iframe\n",
       "            width=\"400\"\n",
       "            height=\"300\"\n",
       "            src=\"https://www.youtube.com/embed/L2-swEdDXsc\"\n",
       "            frameborder=\"0\"\n",
       "            allowfullscreen\n",
       "        ></iframe>\n",
       "        "
      ],
      "text/plain": [
       "<IPython.lib.display.YouTubeVideo at 0x103620890>"
      ]
     },
     "execution_count": 2,
     "metadata": {},
     "output_type": "execute_result"
    }
   ],
   "source": [
    "from IPython.display import YouTubeVideo\n",
    "YouTubeVideo('L2-swEdDXsc')"
   ]
  },
  {
   "cell_type": "markdown",
   "metadata": {},
   "source": [
    "#### Persistence of vision"
   ]
  },
  {
   "cell_type": "markdown",
   "metadata": {},
   "source": [
    "Persistence of vision describes the inability of the retina to sample rapidly changing intensities. \n",
    "* A stimulus flashing at about 50–60 Hz (cycles per second) will appear steady (depending on contrast and luminance conditions and observers). \n",
    "* This is known as the Critical Fusion Frequency (CFF)."
   ]
  },
  {
   "cell_type": "markdown",
   "metadata": {},
   "source": [
    "##### 참고\n",
    "* [7] CFF   Flicker, Critical Flicker Frequency   플리커, 깜박임, 임계 깜박임 주파수, 임계 융합 주파수 - http://www.ktword.co.kr/abbr_view.php?m_temp1=4173\n",
    "* [8] 위기의 순간, 모든 것이 슬로우모션으로 보일 때(2/2) - http://newspeppermint.com/2015/06/01/m-cff2/\n",
    "* [9] 색채 디스플레이 공학 - http://des.kangwon.ac.kr/broad/Broad1/bbs/data/%C0%CE%B0%A3%BD%C3%B0%A2%B0%FA%B5%F0%BD%BA%C7%C3%B7%B9%C0%CC.pd"
   ]
  },
  {
   "cell_type": "markdown",
   "metadata": {},
   "source": [
    "A stylized representation of the CFF, based on measurements of response to temporal stimuli of varying contrast (i.e., a temporal contrast sensitivity function) is shown in Figure 3.5.\n",
    "* Incidentally, the curve of the CFF resembles the shape of the curve of the Contrast Sensitivity Function (CSF) which describes retinal spatial frequency response. The CFF explains why flicker is not seen when viewing a sequence of (still) images at a high enough rate. The CFF illusion is maintained in cinema because frames are shown at 24 frames per second (fps, equivalent to Hz), but a three-bladed shutter raises the flicker rate to 72Hz (three for each picture)."
   ]
  },
  {
   "cell_type": "markdown",
   "metadata": {},
   "source": [
    "<img src=\"figures/cap3.7.png\" width=600 />"
   ]
  },
  {
   "cell_type": "markdown",
   "metadata": {},
   "source": [
    "## 3.2.1 Perception of Motion in the Visual Periphery"
   ]
  },
  {
   "cell_type": "markdown",
   "metadata": {},
   "source": [
    "In the context of visual attention and foveo–peripheral vision, the temporal response of the HVS is not homogeneous across the visual field. \n",
    "* In terms of motion responsiveness, Koenderink et al. (1985) provide support that the foveal region is more receptive to slower motion than the periphery, although motion is perceived uniformly across the visual field.\n",
    "* Despite the decreased sensitivity in the periphery, movement is more salient there than in the central field of view (fovea). That is, the periphery is more sensitive to moving targets than to stationary ones."
   ]
  },
  {
   "cell_type": "markdown",
   "metadata": {},
   "source": [
    "## 3.2.2 Sensitivity to Direction of Motion in the Visual Periphery"
   ]
  },
  {
   "cell_type": "markdown",
   "metadata": {},
   "source": [
    "The periphery is approximately twice as sensitive to horizontal-axis movement as to vertical-axis movement (Boff & Lincoln, 1988). Directional motion sensitivity is show in Figure 3.6."
   ]
  },
  {
   "cell_type": "markdown",
   "metadata": {},
   "source": [
    "<img src=\"figures/cap3.8.png\" width=600 />"
   ]
  },
  {
   "cell_type": "markdown",
   "metadata": {},
   "source": [
    "# 3.3 Color Vision"
   ]
  },
  {
   "cell_type": "markdown",
   "metadata": {},
   "source": [
    "Foveal color vision if facilitated by the three types of retinal cone photoreceptors.\n",
    "* The three main spectral sensitivity curves for retinal cone photoreceptors peak at approximately 450 nm, 520 nm, and 555 nm wavelengths, for each of the blue, green, and red photoreceptors, respectively. "
   ]
  },
  {
   "cell_type": "markdown",
   "metadata": {},
   "source": [
    "A great deal is known about color vision in the fovea, however, relatively little is known about peripheral color vision. \n",
    "* Of the seven million cones, most are packed tightly into the central 30◦ region of the fovea with scarcely any cones found beyond.\n",
    "* This cone distribution suggests that peripheral color vision is quite poor in comparison to the color sensitivity of the central retinal region. "
   ]
  },
  {
   "cell_type": "markdown",
   "metadata": {},
   "source": [
    "Visual fields for monocular color vision are shown in Figure 3.7."
   ]
  },
  {
   "cell_type": "markdown",
   "metadata": {},
   "source": [
    "<img src=\"figures/cap3.9.png\" width=600 />"
   ]
  },
  {
   "cell_type": "markdown",
   "metadata": {},
   "source": [
    "# 3.4 Implications for Attentional Design of Visual Displays"
   ]
  },
  {
   "cell_type": "markdown",
   "metadata": {},
   "source": [
    "A visuotopic representation model for imagery based on these observations is proposed:"
   ]
  },
  {
   "cell_type": "markdown",
   "metadata": {},
   "source": [
    "1. Spatial resolution \n",
    "    - should remain high within the foveal region and smoothly degrade within the periphery, matching human visual acuity. High spatial fre- quency features in the periphery must be made visible “just in time” to anticipate gaze-contingent fixation changes.\n",
    "2. Temporal resolution \n",
    "    - must be available in the periphery. Sudden onset events are potential attentional attractors. At low speeds, motion of peripheral targets should be increased to match apparent motion in the central field of view.\n",
    "3. Luminance \n",
    "    - should be coded for high visibility in the peripheral areas because the periphery is sensitive to dim objects.\n",
    "4. Chrominance\n",
    "    - should be coded for high exposure almost exclusively in the foveal region, with chromaticity decreasing sharply into the periphery. This require- ment is a direct consequence of the high density of cones and parvocellular gan- glion cells in the fovea.\n",
    "5. Contrast sensitivity \n",
    "    - should be high in the periphery, corresponding to the sensi- tivity of the magnocellular ganglion cells found mainly outside the fovea."
   ]
  },
  {
   "cell_type": "markdown",
   "metadata": {},
   "source": [
    "# 참고자료\n",
    "* [1] Eye Tracking Methodology - http://www.springer.com/us/book/9781846286087\n",
    "* [2] Psychophysics - http://www.slideshare.net/raoelg/psychophysics\n",
    "* [3] 렌즈의 MTF챠트 이해하기 -  http://photo.wins.or.kr/lecture/%EC%B9%B4%EB%A9%94%EB%9D%BC%EC%9D%98%EA%B5%AC%EC%A1%B0/%EB%A0%8C%EC%A6%88/MTF.htm\n",
    "* [4] MTF(Modulation Transfer Function) 차트에 대한 간략한 이해 - http://fantasy297.tistory.com/18\n",
    "* [5] MTF곡선이란 - https://www.saeki.co.kr/shop/sigma/mtf_chart_guide.htm\n",
    "* [6] 원뿔곡선 이야기(원,타원,포물선,쌍곡선) - http://darkpgmr.tistory.com/63\n",
    "* [7] CFF   Flicker, Critical Flicker Frequency   플리커, 깜박임, 임계 깜박임 주파수, 임계 융합 주파수 - http://www.ktword.co.kr/abbr_view.php?m_temp1=4173\n",
    "* [8] 위기의 순간, 모든 것이 슬로우모션으로 보일 때(2/2) - http://newspeppermint.com/2015/06/01/m-cff2/\n",
    "* [9] 색채 디스플레이 공학 - http://des.kangwon.ac.kr/broad/Broad1/bbs/data/%C0%CE%B0%A3%BD%C3%B0%A2%B0%FA%B5%F0%BD%BA%C7%C3%B7%B9%C0%CC.pd"
   ]
  },
  {
   "cell_type": "code",
   "execution_count": null,
   "metadata": {
    "collapsed": true
   },
   "outputs": [],
   "source": []
  }
 ],
 "metadata": {
  "kernelspec": {
   "display_name": "Python 2",
   "language": "python",
   "name": "python2"
  },
  "language_info": {
   "codemirror_mode": {
    "name": "ipython",
    "version": 2
   },
   "file_extension": ".py",
   "mimetype": "text/x-python",
   "name": "python",
   "nbconvert_exporter": "python",
   "pygments_lexer": "ipython2",
   "version": "2.7.10"
  }
 },
 "nbformat": 4,
 "nbformat_minor": 0
}
